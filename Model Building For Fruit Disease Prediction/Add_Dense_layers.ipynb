{
  "nbformat": 4,
  "nbformat_minor": 0,
  "metadata": {
    "colab": {
      "provenance": []
    },
    "kernelspec": {
      "name": "python3",
      "display_name": "Python 3"
    },
    "language_info": {
      "name": "python"
    }
  },
  "cells": [
    {
      "cell_type": "code",
      "execution_count": 1,
      "metadata": {
        "id": "1SztjBQUlz9K"
      },
      "outputs": [],
      "source": [
        "from keras.models import Sequential\n",
        "from keras.layers import Dense\n",
        "from keras.layers import Convolution2D\n",
        "from keras.layers import MaxPooling2D\n",
        "from keras.layers import Flatten"
      ]
    },
    {
      "cell_type": "code",
      "source": [
        "model=Sequential()"
      ],
      "metadata": {
        "id": "wObe2Q5hm5c1"
      },
      "execution_count": 2,
      "outputs": []
    },
    {
      "cell_type": "code",
      "source": [
        "model.add(Dense(units=40,kernel_initializer='uniform',activation='relu'))\n",
        "model.add(Dense(units=70,kernel_initializer='random_uniform',activation='relu'))\n",
        "model.add(Dense(units=6,kernel_initializer='random_uniform',activation='softmax'))"
      ],
      "metadata": {
        "id": "ZYFQWHwgm-Np"
      },
      "execution_count": 3,
      "outputs": []
    }
  ]
}