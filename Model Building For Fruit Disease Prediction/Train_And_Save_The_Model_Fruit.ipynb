{
  "nbformat": 4,
  "nbformat_minor": 0,
  "metadata": {
    "colab": {
      "provenance": []
    },
    "kernelspec": {
      "name": "python3",
      "display_name": "Python 3"
    },
    "language_info": {
      "name": "python"
    }
  },
  "cells": [
    {
      "cell_type": "code",
      "execution_count": null,
      "metadata": {
        "id": "30XabIuOneCU"
      },
      "outputs": [],
      "source": [
        "import tensorflow as tf\n",
        "from keras.preprocessing.image import ImageDataGenerator\n",
        "train_datagen=ImageDataGenerator(rescale=1./255,shear_range=0.2,zoom_range=0.2,horizontal_flip=True)\n",
        "test_datagen=ImageDataGenerator(rescale=1)"
      ]
    },
    {
      "cell_type": "code",
      "source": [
        "from google.colab import drive\n",
        "drive.mount('/content/drive')"
      ],
      "metadata": {
        "colab": {
          "base_uri": "https://localhost:8080/"
        },
        "id": "BXhvSW1Mn9SI",
        "outputId": "60304f95-c687-4492-eb41-66888b7e104d"
      },
      "execution_count": null,
      "outputs": [
        {
          "output_type": "stream",
          "name": "stdout",
          "text": [
            "Mounted at /content/drive\n"
          ]
        }
      ]
    },
    {
      "cell_type": "code",
      "source": [
        "x_train= train_datagen.flow_from_directory('/content/drive/MyDrive/IBM Project/Fertilizers_Recommendation_ System_For_Disease_ Prediction/Dataset Plant Disease/fruit-dataset/fruit-dataset/train',target_size=(128,128),batch_size=32,class_mode='categorical')\n",
        "x_test= test_datagen.flow_from_directory('/content/drive/MyDrive/IBM Project/Fertilizers_Recommendation_ System_For_Disease_ Prediction/Dataset Plant Disease/fruit-dataset/fruit-dataset/test',target_size=(128,128),batch_size=32,class_mode='categorical')"
      ],
      "metadata": {
        "colab": {
          "base_uri": "https://localhost:8080/"
        },
        "id": "EXiDYcqpn9LT",
        "outputId": "d936101c-1122-429e-b0ac-eb0d0b5e048e"
      },
      "execution_count": null,
      "outputs": [
        {
          "output_type": "stream",
          "name": "stdout",
          "text": [
            "Found 5384 images belonging to 6 classes.\n",
            "Found 1686 images belonging to 6 classes.\n"
          ]
        }
      ]
    },
    {
      "cell_type": "code",
      "source": [
        "from keras.models import Sequential\n",
        "from keras.layers import Dense\n",
        "from keras.layers import Convolution2D\n",
        "from keras.layers import MaxPooling2D\n",
        "from keras.layers import Flatten"
      ],
      "metadata": {
        "id": "jC7WzbAyn9EF"
      },
      "execution_count": null,
      "outputs": []
    },
    {
      "cell_type": "code",
      "source": [
        "model=Sequential()"
      ],
      "metadata": {
        "id": "rxKkO1JJn89d"
      },
      "execution_count": null,
      "outputs": []
    },
    {
      "cell_type": "code",
      "source": [
        "model.add(Convolution2D(32,(3,3),input_shape=(128,128,3),activation='relu'))"
      ],
      "metadata": {
        "id": "6N2fx-MIn81p"
      },
      "execution_count": null,
      "outputs": []
    },
    {
      "cell_type": "code",
      "source": [
        "model.add(MaxPooling2D(pool_size=(2,2)))"
      ],
      "metadata": {
        "id": "_kHcv8dNn8tT"
      },
      "execution_count": null,
      "outputs": []
    },
    {
      "cell_type": "code",
      "source": [
        "model.add(Flatten())"
      ],
      "metadata": {
        "id": "KKynt1Yfn8jg"
      },
      "execution_count": null,
      "outputs": []
    },
    {
      "cell_type": "code",
      "source": [
        "model.add(Dense(units=40,kernel_initializer='uniform',activation='relu'))\n",
        "model.add(Dense(units=70,kernel_initializer='random_uniform',activation='relu'))\n",
        "model.add(Dense(units=6,kernel_initializer='random_uniform',activation='softmax'))"
      ],
      "metadata": {
        "id": "Du640I_9n8VU"
      },
      "execution_count": null,
      "outputs": []
    },
    {
      "cell_type": "code",
      "source": [
        "model.compile(loss='categorical_crossentropy',optimizer=\"adam\",metrics=[\"accuracy\"])"
      ],
      "metadata": {
        "id": "taggD-Nrob9o"
      },
      "execution_count": null,
      "outputs": []
    },
    {
      "cell_type": "code",
      "source": [
        "model.fit(x_train,steps_per_epoch=168,epochs=3,validation_data=x_test,validation_steps=52)"
      ],
      "metadata": {
        "colab": {
          "base_uri": "https://localhost:8080/"
        },
        "id": "yjZ4qP-Kob5q",
        "outputId": "e9cf2023-4ba4-48ff-93f2-6619be0570ba"
      },
      "execution_count": null,
      "outputs": [
        {
          "output_type": "stream",
          "name": "stdout",
          "text": [
            "Epoch 1/3\n",
            "168/168 [==============================] - 1983s 12s/step - loss: 0.9484 - accuracy: 0.6467 - val_loss: 90.6447 - val_accuracy: 0.7602\n",
            "Epoch 2/3\n",
            "168/168 [==============================] - 98s 580ms/step - loss: 0.4821 - accuracy: 0.8240 - val_loss: 226.5206 - val_accuracy: 0.6520\n",
            "Epoch 3/3\n",
            "168/168 [==============================] - 95s 562ms/step - loss: 0.3727 - accuracy: 0.8640 - val_loss: 172.9686 - val_accuracy: 0.7326\n"
          ]
        },
        {
          "output_type": "execute_result",
          "data": {
            "text/plain": [
              "<keras.callbacks.History at 0x7fb0489a7610>"
            ]
          },
          "metadata": {},
          "execution_count": 11
        }
      ]
    },
    {
      "cell_type": "code",
      "source": [
        "model.save('fruitdata.h5')"
      ],
      "metadata": {
        "id": "keeud4XZxLcu"
      },
      "execution_count": null,
      "outputs": []
    },
    {
      "cell_type": "code",
      "source": [
        "model.summary()"
      ],
      "metadata": {
        "colab": {
          "base_uri": "https://localhost:8080/"
        },
        "id": "oRKAHOaExT-p",
        "outputId": "5fff31de-dcd6-4b73-dfd5-778183121813"
      },
      "execution_count": null,
      "outputs": [
        {
          "output_type": "stream",
          "name": "stdout",
          "text": [
            "Model: \"sequential\"\n",
            "_________________________________________________________________\n",
            " Layer (type)                Output Shape              Param #   \n",
            "=================================================================\n",
            " conv2d (Conv2D)             (None, 126, 126, 32)      896       \n",
            "                                                                 \n",
            " max_pooling2d (MaxPooling2D  (None, 63, 63, 32)       0         \n",
            " )                                                               \n",
            "                                                                 \n",
            " flatten (Flatten)           (None, 127008)            0         \n",
            "                                                                 \n",
            " dense (Dense)               (None, 40)                5080360   \n",
            "                                                                 \n",
            " dense_1 (Dense)             (None, 70)                2870      \n",
            "                                                                 \n",
            " dense_2 (Dense)             (None, 6)                 426       \n",
            "                                                                 \n",
            "=================================================================\n",
            "Total params: 5,084,552\n",
            "Trainable params: 5,084,552\n",
            "Non-trainable params: 0\n",
            "_________________________________________________________________\n"
          ]
        }
      ]
    }
  ]
}