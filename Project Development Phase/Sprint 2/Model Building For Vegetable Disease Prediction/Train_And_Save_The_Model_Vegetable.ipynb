{
  "nbformat": 4,
  "nbformat_minor": 0,
  "metadata": {
    "colab": {
      "provenance": []
    },
    "kernelspec": {
      "name": "python3",
      "display_name": "Python 3"
    },
    "language_info": {
      "name": "python"
    }
  },
  "cells": [
    {
      "cell_type": "code",
      "execution_count": 1,
      "metadata": {
        "id": "Lz59fa4SqIMp"
      },
      "outputs": [],
      "source": [
        "from keras.preprocessing.image import ImageDataGenerator\n",
        "train_datagen=ImageDataGenerator(rescale=1./255,shear_range=0.2,zoom_range=0.2,horizontal_flip=True)\n",
        "test_datagen=ImageDataGenerator(rescale=1)"
      ]
    },
    {
      "cell_type": "code",
      "source": [
        "from google.colab import drive\n",
        "drive.mount('/content/drive')"
      ],
      "metadata": {
        "colab": {
          "base_uri": "https://localhost:8080/"
        },
        "id": "YTNBnydcrC4O",
        "outputId": "848d0769-9428-4f53-8ef9-707e5323e421"
      },
      "execution_count": 2,
      "outputs": [
        {
          "output_type": "stream",
          "name": "stdout",
          "text": [
            "Mounted at /content/drive\n"
          ]
        }
      ]
    },
    {
      "cell_type": "code",
      "source": [
        "x_train=train_datagen.flow_from_directory('/content/drive/MyDrive/IBM Project/Fertilizers_Recommendation_ System_For_Disease_ Prediction/Dataset Plant Disease/Veg-dataset/Veg-dataset/train_set',target_size=(128,128),batch_size=32,class_mode='categorical')\n",
        "x_test=test_datagen.flow_from_directory('/content/drive/MyDrive/IBM Project/Fertilizers_Recommendation_ System_For_Disease_ Prediction/Dataset Plant Disease/Veg-dataset/Veg-dataset/test_set',target_size=(128,128),batch_size=32,class_mode='categorical')"
      ],
      "metadata": {
        "colab": {
          "base_uri": "https://localhost:8080/"
        },
        "id": "nSp1N0Soq7OA",
        "outputId": "a3762b6b-d436-41a7-c794-c44a782211ea"
      },
      "execution_count": 3,
      "outputs": [
        {
          "output_type": "stream",
          "name": "stdout",
          "text": [
            "Found 11396 images belonging to 9 classes.\n",
            "Found 3416 images belonging to 9 classes.\n"
          ]
        }
      ]
    },
    {
      "cell_type": "code",
      "source": [
        "from keras.models import Sequential\n",
        "from keras.layers import Dense\n",
        "from keras.layers import Convolution2D\n",
        "from keras.layers import MaxPooling2D\n",
        "from keras.layers import Flatten"
      ],
      "metadata": {
        "id": "copzY4qoq7LW"
      },
      "execution_count": 4,
      "outputs": []
    },
    {
      "cell_type": "code",
      "source": [
        "model=Sequential()"
      ],
      "metadata": {
        "id": "iJt5tN-2q7JX"
      },
      "execution_count": 5,
      "outputs": []
    },
    {
      "cell_type": "code",
      "source": [
        "model.add(Convolution2D(32,(3,3),input_shape=(128,128,3),activation='relu'))"
      ],
      "metadata": {
        "id": "jkjP60ZJq7Gm"
      },
      "execution_count": 6,
      "outputs": []
    },
    {
      "cell_type": "code",
      "source": [
        "model.add(MaxPooling2D(pool_size=(2,2)))"
      ],
      "metadata": {
        "id": "UEWdI0bTq7Ee"
      },
      "execution_count": 7,
      "outputs": []
    },
    {
      "cell_type": "code",
      "source": [
        "model.add(Flatten())"
      ],
      "metadata": {
        "id": "X9KD8Bw_q7Ca"
      },
      "execution_count": 8,
      "outputs": []
    },
    {
      "cell_type": "code",
      "source": [
        "model.add(Dense(units=300,kernel_initializer='uniform',activation='relu'))"
      ],
      "metadata": {
        "id": "DJJLYAJWq6_o"
      },
      "execution_count": 9,
      "outputs": []
    },
    {
      "cell_type": "code",
      "source": [
        "model.add(Dense(units=150,kernel_initializer='uniform',activation='relu'))"
      ],
      "metadata": {
        "id": "iL1rxSIOq67f"
      },
      "execution_count": 10,
      "outputs": []
    },
    {
      "cell_type": "code",
      "source": [
        "model.add(Dense(units=75,kernel_initializer='uniform',activation='relu'))"
      ],
      "metadata": {
        "id": "W6mPHK07q643"
      },
      "execution_count": 11,
      "outputs": []
    },
    {
      "cell_type": "code",
      "source": [
        "model.add(Dense(units=9,kernel_initializer='uniform',activation='softmax'))"
      ],
      "metadata": {
        "id": "x4l_hkoHq6xf"
      },
      "execution_count": 12,
      "outputs": []
    },
    {
      "cell_type": "code",
      "source": [
        "model.compile(loss='categorical_crossentropy',optimizer=\"adam\",metrics=[\"accuracy\"])"
      ],
      "metadata": {
        "id": "6u0hr-4dsRdJ"
      },
      "execution_count": 13,
      "outputs": []
    },
    {
      "cell_type": "code",
      "source": [
        "model.fit(x_train,steps_per_epoch=89,epochs=20,validation_data=x_test,validation_steps=27)"
      ],
      "metadata": {
        "colab": {
          "base_uri": "https://localhost:8080/"
        },
        "id": "B7NN-oLxpc1v",
        "outputId": "9dbb3ee9-be1e-44b4-d94f-4d60367a0c5e"
      },
      "execution_count": 15,
      "outputs": [
        {
          "output_type": "stream",
          "name": "stdout",
          "text": [
            "Epoch 1/20\n",
            "89/89 [==============================] - 727s 8s/step - loss: 1.5014 - accuracy: 0.4511 - val_loss: 299.5141 - val_accuracy: 0.3160\n",
            "Epoch 2/20\n",
            "89/89 [==============================] - 696s 8s/step - loss: 1.2575 - accuracy: 0.5390 - val_loss: 290.2437 - val_accuracy: 0.4201\n",
            "Epoch 3/20\n",
            "89/89 [==============================] - 508s 6s/step - loss: 1.0118 - accuracy: 0.6264 - val_loss: 609.5536 - val_accuracy: 0.3924\n",
            "Epoch 4/20\n",
            "89/89 [==============================] - 378s 4s/step - loss: 0.9259 - accuracy: 0.6612 - val_loss: 997.3672 - val_accuracy: 0.2720\n",
            "Epoch 5/20\n",
            "89/89 [==============================] - 290s 3s/step - loss: 0.8003 - accuracy: 0.7202 - val_loss: 1213.7552 - val_accuracy: 0.3079\n",
            "Epoch 6/20\n",
            "89/89 [==============================] - 221s 2s/step - loss: 0.7210 - accuracy: 0.7287 - val_loss: 1306.4858 - val_accuracy: 0.2396\n",
            "Epoch 7/20\n",
            "89/89 [==============================] - 177s 2s/step - loss: 0.6549 - accuracy: 0.7681 - val_loss: 1675.7257 - val_accuracy: 0.2581\n",
            "Epoch 8/20\n",
            "89/89 [==============================] - 157s 2s/step - loss: 0.6205 - accuracy: 0.7781 - val_loss: 1515.7922 - val_accuracy: 0.2315\n",
            "Epoch 9/20\n",
            "89/89 [==============================] - 118s 1s/step - loss: 0.5690 - accuracy: 0.7837 - val_loss: 1567.3408 - val_accuracy: 0.2708\n",
            "Epoch 10/20\n",
            "89/89 [==============================] - 103s 1s/step - loss: 0.5354 - accuracy: 0.8145 - val_loss: 1745.7429 - val_accuracy: 0.2731\n",
            "Epoch 11/20\n",
            "89/89 [==============================] - 94s 1s/step - loss: 0.4508 - accuracy: 0.8448 - val_loss: 2218.3030 - val_accuracy: 0.1806\n",
            "Epoch 12/20\n",
            "89/89 [==============================] - 88s 991ms/step - loss: 0.4882 - accuracy: 0.8287 - val_loss: 1430.9045 - val_accuracy: 0.3137\n",
            "Epoch 13/20\n",
            "89/89 [==============================] - 82s 920ms/step - loss: 0.4133 - accuracy: 0.8606 - val_loss: 1665.2078 - val_accuracy: 0.3021\n",
            "Epoch 14/20\n",
            "89/89 [==============================] - 80s 892ms/step - loss: 0.3882 - accuracy: 0.8567 - val_loss: 1981.7302 - val_accuracy: 0.2558\n",
            "Epoch 15/20\n",
            "89/89 [==============================] - 78s 874ms/step - loss: 0.3429 - accuracy: 0.8785 - val_loss: 2110.9653 - val_accuracy: 0.2859\n",
            "Epoch 16/20\n",
            "89/89 [==============================] - 75s 844ms/step - loss: 0.3813 - accuracy: 0.8669 - val_loss: 1783.5363 - val_accuracy: 0.3264\n",
            "Epoch 17/20\n",
            "89/89 [==============================] - 75s 837ms/step - loss: 0.3663 - accuracy: 0.8713 - val_loss: 2327.7373 - val_accuracy: 0.2407\n",
            "Epoch 18/20\n",
            "89/89 [==============================] - 75s 841ms/step - loss: 0.3316 - accuracy: 0.8778 - val_loss: 2909.4941 - val_accuracy: 0.1586\n",
            "Epoch 19/20\n",
            "89/89 [==============================] - 74s 825ms/step - loss: 0.3467 - accuracy: 0.8887 - val_loss: 1734.8939 - val_accuracy: 0.3125\n",
            "Epoch 20/20\n",
            "89/89 [==============================] - 74s 832ms/step - loss: 0.3429 - accuracy: 0.8766 - val_loss: 1314.5443 - val_accuracy: 0.4167\n"
          ]
        },
        {
          "output_type": "execute_result",
          "data": {
            "text/plain": [
              "<keras.callbacks.History at 0x7fba8118b710>"
            ]
          },
          "metadata": {},
          "execution_count": 15
        }
      ]
    },
    {
      "cell_type": "code",
      "source": [
        "model.save('vegetabledata.h5')"
      ],
      "metadata": {
        "id": "6y7gwoqm6t9n"
      },
      "execution_count": 16,
      "outputs": []
    },
    {
      "cell_type": "code",
      "source": [
        "model.summary()"
      ],
      "metadata": {
        "colab": {
          "base_uri": "https://localhost:8080/"
        },
        "id": "n-rZT8vI6v9m",
        "outputId": "35baac21-e901-44ae-e488-06ec7c43cac7"
      },
      "execution_count": 17,
      "outputs": [
        {
          "output_type": "stream",
          "name": "stdout",
          "text": [
            "Model: \"sequential\"\n",
            "_________________________________________________________________\n",
            " Layer (type)                Output Shape              Param #   \n",
            "=================================================================\n",
            " conv2d (Conv2D)             (None, 126, 126, 32)      896       \n",
            "                                                                 \n",
            " max_pooling2d (MaxPooling2D  (None, 63, 63, 32)       0         \n",
            " )                                                               \n",
            "                                                                 \n",
            " flatten (Flatten)           (None, 127008)            0         \n",
            "                                                                 \n",
            " dense (Dense)               (None, 300)               38102700  \n",
            "                                                                 \n",
            " dense_1 (Dense)             (None, 150)               45150     \n",
            "                                                                 \n",
            " dense_2 (Dense)             (None, 75)                11325     \n",
            "                                                                 \n",
            " dense_3 (Dense)             (None, 9)                 684       \n",
            "                                                                 \n",
            "=================================================================\n",
            "Total params: 38,160,755\n",
            "Trainable params: 38,160,755\n",
            "Non-trainable params: 0\n",
            "_________________________________________________________________\n"
          ]
        }
      ]
    }
  ]
}